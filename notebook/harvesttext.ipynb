{
 "cells": [
  {
   "cell_type": "code",
   "execution_count": null,
   "metadata": {},
   "outputs": [],
   "source": [
    "#https://github.com/blmoistawinde/HarvestText\n",
    "\n",
    "\n"
   ]
  },
  {
   "cell_type": "code",
   "execution_count": 7,
   "metadata": {},
   "outputs": [],
   "source": [
    "from harvesttext import HarvestText\n",
    "\n",
    "ht = HarvestText()"
   ]
  },
  {
   "cell_type": "code",
   "execution_count": 13,
   "metadata": {},
   "outputs": [
    {
     "ename": "java.util.NoSuchElementExceptionPyRaisable",
     "evalue": "java.util.NoSuchElementException",
     "output_type": "error",
     "traceback": [
      "\u001b[0;31m---------------------------------------------------------------------------\u001b[0m",
      "\u001b[0;31mjava.util.NoSuchElementExceptionPyRaisable\u001b[0mTraceback (most recent call last)",
      "\u001b[0;32m<ipython-input-13-0a5be9ce8840>\u001b[0m in \u001b[0;36m<module>\u001b[0;34m\u001b[0m\n\u001b[1;32m      6\u001b[0m \u001b[0;31m# for arc in ht0.dependency_parse(sent=para):\u001b[0m\u001b[0;34m\u001b[0m\u001b[0;34m\u001b[0m\u001b[0;34m\u001b[0m\u001b[0m\n\u001b[1;32m      7\u001b[0m \u001b[0;31m#     print(arc)\u001b[0m\u001b[0;34m\u001b[0m\u001b[0;34m\u001b[0m\u001b[0;34m\u001b[0m\u001b[0m\n\u001b[0;32m----> 8\u001b[0;31m \u001b[0mprint\u001b[0m\u001b[0;34m(\u001b[0m\u001b[0mht0\u001b[0m\u001b[0;34m.\u001b[0m\u001b[0mtriple_extraction\u001b[0m\u001b[0;34m(\u001b[0m\u001b[0mpara\u001b[0m\u001b[0;34m)\u001b[0m\u001b[0;34m)\u001b[0m\u001b[0;34m\u001b[0m\u001b[0;34m\u001b[0m\u001b[0m\n\u001b[0m",
      "\u001b[0;32m~/pan/github/ai_writer/lib/python3.6/site-packages/harvesttext/harvesttext.py\u001b[0m in \u001b[0;36mtriple_extraction\u001b[0;34m(self, sent, standard_name, stopwords, expand)\u001b[0m\n\u001b[1;32m    576\u001b[0m         \u001b[0;34m:\u001b[0m\u001b[0mparam\u001b[0m \u001b[0mstopwords\u001b[0m\u001b[0;34m:\u001b[0m\u001b[0;34m\u001b[0m\u001b[0;34m\u001b[0m\u001b[0m\n\u001b[1;32m    577\u001b[0m         \u001b[0;34m:\u001b[0m\u001b[0mparam\u001b[0m \u001b[0mexpand\u001b[0m\u001b[0;34m:\u001b[0m \u001b[0m默认\u001b[0m\u001b[0;34m\"all\"\u001b[0m\u001b[0;31m：\u001b[0m\u001b[0m扩展所有主谓词\u001b[0m\u001b[0;31m，\u001b[0m\u001b[0;34m\"exclude_entity\"\u001b[0m\u001b[0;31m：\u001b[0m\u001b[0m不扩展已知实体\u001b[0m\u001b[0;31m，\u001b[0m\u001b[0m可以保留标准的实体名\u001b[0m\u001b[0;31m，\u001b[0m\u001b[0m用于链接\u001b[0m\u001b[0;31m。\u001b[0m\u001b[0;34m\"None\"\u001b[0m\u001b[0;34m:\u001b[0m\u001b[0m不扩展\u001b[0m\u001b[0;34m\u001b[0m\u001b[0;34m\u001b[0m\u001b[0m\n\u001b[0;32m--> 578\u001b[0;31m         \u001b[0;34m:\u001b[0m\u001b[0;32mreturn\u001b[0m\u001b[0;34m:\u001b[0m\u001b[0;34m\u001b[0m\u001b[0;34m\u001b[0m\u001b[0m\n\u001b[0m\u001b[1;32m    579\u001b[0m         \"\"\"\n\u001b[1;32m    580\u001b[0m         \u001b[0marcs\u001b[0m \u001b[0;34m=\u001b[0m \u001b[0mself\u001b[0m\u001b[0;34m.\u001b[0m\u001b[0mdependency_parse\u001b[0m\u001b[0;34m(\u001b[0m\u001b[0msent\u001b[0m\u001b[0;34m,\u001b[0m \u001b[0mstandard_name\u001b[0m\u001b[0;34m,\u001b[0m \u001b[0mstopwords\u001b[0m\u001b[0;34m)\u001b[0m\u001b[0;34m\u001b[0m\u001b[0;34m\u001b[0m\u001b[0m\n",
      "\u001b[0;32m~/pan/github/ai_writer/lib/python3.6/site-packages/harvesttext/harvesttext.py\u001b[0m in \u001b[0;36mdependency_parse\u001b[0;34m(self, sent, standard_name, stopwords)\u001b[0m\n\u001b[1;32m    549\u001b[0m         \u001b[0;31m# [word.ID-1, word.LEMMA, word.POSTAG, word.DEPREL ,word.HEAD.ID-1]\u001b[0m\u001b[0;34m\u001b[0m\u001b[0;34m\u001b[0m\u001b[0;34m\u001b[0m\u001b[0m\n\u001b[1;32m    550\u001b[0m         \u001b[0marcs\u001b[0m \u001b[0;34m=\u001b[0m \u001b[0;34m[\u001b[0m\u001b[0;34m]\u001b[0m\u001b[0;34m\u001b[0m\u001b[0;34m\u001b[0m\u001b[0m\n\u001b[0;32m--> 551\u001b[0;31m         \u001b[0mi\u001b[0m \u001b[0;34m=\u001b[0m \u001b[0;36m0\u001b[0m\u001b[0;34m\u001b[0m\u001b[0;34m\u001b[0m\u001b[0m\n\u001b[0m\u001b[1;32m    552\u001b[0m \u001b[0;34m\u001b[0m\u001b[0m\n\u001b[1;32m    553\u001b[0m         \u001b[0msentence\u001b[0m \u001b[0;34m=\u001b[0m \u001b[0mHanLP\u001b[0m\u001b[0;34m.\u001b[0m\u001b[0mparseDependency\u001b[0m\u001b[0;34m(\u001b[0m\u001b[0msent2\u001b[0m\u001b[0;34m)\u001b[0m\u001b[0;34m\u001b[0m\u001b[0;34m\u001b[0m\u001b[0m\n",
      "\u001b[0;31mjava.util.NoSuchElementExceptionPyRaisable\u001b[0m: java.util.NoSuchElementException"
     ]
    }
   ],
   "source": [
    "ht0 = HarvestText()\n",
    "para = \"上港的武磊武球王是中国最好的前锋。\"\n",
    "# entity_mention_dict = {'武磊': ['武磊', '武球王'], \"上海上港\":[\"上港\"]}\n",
    "# entity_type_dict = {'武磊': '球员', \"上海上港\":\"球队\"}\n",
    "# ht0.add_entities(entity_mention_dict, entity_type_dict)\n",
    "# for arc in ht0.dependency_parse(sent=para):\n",
    "#     print(arc)\n",
    "print(ht0.triple_extraction(para))"
   ]
  },
  {
   "cell_type": "code",
   "execution_count": 4,
   "metadata": {},
   "outputs": [
    {
     "name": "stdout",
     "output_type": "stream",
     "text": [
      "{'上海上港足球队': '机构名', '武磊': '人名', '中国': '地名'}\n"
     ]
    }
   ],
   "source": [
    "ht0 = HarvestText()\n",
    "sent = \"上海上港足球队的武磊是中国最好的前锋。\"\n",
    "print(ht0.named_entity_recognition(sent))"
   ]
  }
 ],
 "metadata": {
  "kernelspec": {
   "display_name": "Python 3",
   "language": "python",
   "name": "python3"
  },
  "language_info": {
   "codemirror_mode": {
    "name": "ipython",
    "version": 3
   },
   "file_extension": ".py",
   "mimetype": "text/x-python",
   "name": "python",
   "nbconvert_exporter": "python",
   "pygments_lexer": "ipython3",
   "version": "3.6.8"
  }
 },
 "nbformat": 4,
 "nbformat_minor": 2
}
