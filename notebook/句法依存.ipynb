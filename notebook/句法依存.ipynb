{
 "cells": [
  {
   "cell_type": "code",
   "execution_count": null,
   "metadata": {},
   "outputs": [],
   "source": [
    "# 基于句法依存的句子生成"
   ]
  },
  {
   "cell_type": "code",
   "execution_count": 3,
   "metadata": {},
   "outputs": [
    {
     "data": {
      "text/plain": [
       "'/home/terry/pan/github/ai_writer/ai_writer'"
      ]
     },
     "execution_count": 3,
     "metadata": {},
     "output_type": "execute_result"
    }
   ],
   "source": [
    "# 切换工作目录\n",
    "import os\n",
    "os.chdir(\"../\")   #修改当前工作目录\n",
    "os.getcwd()    #获取当前工作目录"
   ]
  },
  {
   "cell_type": "code",
   "execution_count": 4,
   "metadata": {},
   "outputs": [],
   "source": [
    "import libs\n",
    "from tqdm import tqdm\n",
    "import os,random\n",
    "import shutil\n",
    "import argparse"
   ]
  },
  {
   "cell_type": "code",
   "execution_count": 72,
   "metadata": {},
   "outputs": [
    {
     "name": "stdout",
     "output_type": "stream",
     "text": [
      "kaishi\n",
      "{'log_id': 8492050821153879025, 'text': '被毛长度适中，绒毛层短而厚，外层被毛较长而粗糙，能抵御各种环境条件', 'items': [{'postag': 'ng', 'head': 2, 'word': '被', 'id': 1, 'deprel': 'ATT'}, {'postag': 'n', 'head': 3, 'word': '毛', 'id': 2, 'deprel': 'ATT'}, {'postag': 'n', 'head': 4, 'word': '长度', 'id': 3, 'deprel': 'SBV'}, {'postag': 'a', 'head': 0, 'word': '适中', 'id': 4, 'deprel': 'HED'}, {'postag': 'w', 'head': 4, 'word': '，', 'id': 5, 'deprel': 'WP'}, {'postag': 'n', 'head': 7, 'word': '绒毛', 'id': 6, 'deprel': 'ATT'}, {'postag': 'n', 'head': 8, 'word': '层', 'id': 7, 'deprel': 'SBV'}, {'postag': 'a', 'head': 4, 'word': '短', 'id': 8, 'deprel': 'IC'}, {'postag': 'c', 'head': 10, 'word': '而', 'id': 9, 'deprel': 'COO'}, {'postag': 'a', 'head': 8, 'word': '厚', 'id': 10, 'deprel': 'COO'}, {'postag': 'w', 'head': 8, 'word': '，', 'id': 11, 'deprel': 'WP'}, {'postag': 'n', 'head': 14, 'word': '外层', 'id': 12, 'deprel': 'ATT'}, {'postag': 'p', 'head': 14, 'word': '被', 'id': 13, 'deprel': 'ATT'}, {'postag': 'n', 'head': 16, 'word': '毛', 'id': 14, 'deprel': 'SBV'}, {'postag': 'd', 'head': 16, 'word': '较', 'id': 15, 'deprel': 'ADV'}, {'postag': 'a', 'head': 4, 'word': '长', 'id': 16, 'deprel': 'IC'}, {'postag': 'c', 'head': 18, 'word': '而', 'id': 17, 'deprel': 'COO'}, {'postag': 'a', 'head': 16, 'word': '粗糙', 'id': 18, 'deprel': 'COO'}, {'postag': 'w', 'head': 16, 'word': '，', 'id': 19, 'deprel': 'WP'}, {'postag': 'v', 'head': 21, 'word': '能', 'id': 20, 'deprel': 'ADV'}, {'postag': 'v', 'head': 4, 'word': '抵御', 'id': 21, 'deprel': 'IC'}, {'postag': 'r', 'head': 24, 'word': '各种', 'id': 22, 'deprel': 'ATT'}, {'postag': 'n', 'head': 24, 'word': '环境', 'id': 23, 'deprel': 'ATT'}, {'postag': 'n', 'head': 21, 'word': '条件', 'id': 24, 'deprel': 'VOB'}]}\n"
     ]
    }
   ],
   "source": [
    "\n",
    "\n",
    "title = \"被毛长度适中，绒毛层短而厚，外层被毛较长而粗糙，能抵御各种环境条件\"\n",
    "\n",
    "content = \"\"\"\n",
    "\n",
    "1、发情母犬的阴唇肿胀、肥大、外突、初期粉红色，明显充血并有少量黏液伴随血液从母犬的阴道流出。随着发情期的延续，流出的血量逐日增加，血液的颜色也由粉红色变为深红色：发情的第8天，血量最多最浓，血色最深。第9天以后血量渐少，浓度渐稀，这时阴唇也逐渐变为暗红色。由于这时阴唇肿胀渐消，开始出现皱纹，发情的母犬进入了排卵期。排卵期大约持续5—6天，这时的发情母犬乐意接受公犬爬跨。随着排卵期的延伸，发情母犬的求爱表现日炽，直到发情期的第16天，母犬开始讨厌公犬纠缠、这时发情母犬的阴道仍有血水流出，到第21天时，阴道流血停止，阴唇肿胀消退，母犬发情结束。\n",
    "2、发情期母犬表情兴奋。随着发情期的持续，母犬的兴奋增强，表情比平时恍惚不安，吠声粗大，双目发亮。发情炽期，母犬坐卧不安，食欲锐减，拴养的母犬不断对空发出求偶吠，养犬者这时如果用手按压母犬的腰部或抚摸犬尾时，母犬站立不动，或把犬尾偏向一侧，犬的阴唇不断抽动，并且阴门频频开启和闭合，这时如用性成熟的公犬试情时，发情的母犬后肢叉开，出现主动接受交配状。养犬者在犬的发情期，一定要密切观察发情母犬的上述变化和表情，一定要记住母犬发情开始（母犬阴道流血第一天）的日子，以便推算出该母犬最佳的交配日：只有在最佳交配日配种，才能提高母犬的受胎率和产仔数。\n",
    "最佳配种日和配种\n",
    "\n",
    "\"\"\"\n",
    "\n",
    "baiduai= libs.BaiduAi()\n",
    "t = baiduai.depParser(title)\n",
    "print(t)"
   ]
  },
  {
   "cell_type": "code",
   "execution_count": 49,
   "metadata": {},
   "outputs": [
    {
     "name": "stdout",
     "output_type": "stream",
     "text": [
      "威尔士柯基犬为1107年由法兰德斯工人携带过来的犬种，根据其近似狐狸的头部，有人认为本犬与尖嘴犬祖先关系密切。\n"
     ]
    }
   ],
   "source": [
    "print(t['text'])"
   ]
  },
  {
   "cell_type": "code",
   "execution_count": 22,
   "metadata": {},
   "outputs": [
    {
     "name": "stdout",
     "output_type": "stream",
     "text": [
      "{'postag': 'ns', 'head': 2, 'word': '威尔士', 'id': 1, 'deprel': 'ATT'}\n",
      "{'postag': 'n', 'head': 3, 'word': '柯基犬', 'id': 2, 'deprel': 'SBV'}\n",
      "{'postag': 'v', 'head': 0, 'word': '是', 'id': 3, 'deprel': 'HED'}\n",
      "{'postag': 'm', 'head': 5, 'word': '一', 'id': 4, 'deprel': 'QUN'}\n",
      "{'postag': 'q', 'head': 7, 'word': '种', 'id': 5, 'deprel': 'ATT'}\n",
      "{'postag': 'b', 'head': 7, 'word': '小型', 'id': 6, 'deprel': 'ATT'}\n",
      "{'postag': 'ng', 'head': 3, 'word': '犬', 'id': 7, 'deprel': 'VOB'}\n"
     ]
    }
   ],
   "source": [
    "# pre = 0\n",
    "# for item in t['items']:\n",
    "#     print(item)\n"
   ]
  },
  {
   "cell_type": "code",
   "execution_count": 100,
   "metadata": {},
   "outputs": [
    {
     "name": "stdout",
     "output_type": "stream",
     "text": [
      "kaishi\n",
      "适度\n",
      "{'postag': 'r', 'head': 2, 'word': '每天', 'id': 1, 'deprel': 'TMP'}\n",
      "{'postag': 'v', 'head': 5, 'word': '喂', 'id': 2, 'deprel': 'DE'}\n",
      "{'postag': 'v', 'head': 4, 'word': '饲', 'id': 3, 'deprel': 'ATT'}\n",
      "{'postag': 'n', 'head': 2, 'word': '食物', 'id': 4, 'deprel': 'VOB'}\n",
      "{'postag': 'u', 'head': 6, 'word': '的', 'id': 5, 'deprel': 'DE'}\n",
      "{'postag': 'ng', 'head': 8, 'word': '量', 'id': 6, 'deprel': 'SBV'}\n",
      "{'postag': 'v', 'head': 8, 'word': '要', 'id': 7, 'deprel': 'ADV'}\n",
      "{'postag': 'ad', 'head': 0, 'word': '适度', 'id': 8, 'deprel': 'HED', 'type': 'm'}\n",
      "{'postag': 'w', 'head': 8, 'word': '，', 'id': 9, 'deprel': 'WP'}\n",
      "{'postag': 'a', 'head': 14, 'word': '过多', 'id': 10, 'deprel': 'CS'}\n",
      "{'postag': 'd', 'head': 10, 'word': '过少', 'id': 11, 'deprel': 'COO'}\n",
      "{'postag': 'd', 'head': 14, 'word': '都', 'id': 12, 'deprel': 'ADV'}\n",
      "{'postag': 'ad', 'head': 14, 'word': '不利', 'id': 13, 'deprel': 'ADV'}\n",
      "{'postag': 'v', 'head': 8, 'word': '成长', 'id': 14, 'deprel': 'IC'}\n",
      "{'postag': 'w', 'head': 14, 'word': '。', 'id': 15, 'deprel': 'WP'}\n",
      "每天(1)喂(2)的(5)量(6)适度(8)过少(11)成长(14)\n",
      "每天喂饲食物的量要适度，过多过少都不利成长。\n"
     ]
    }
   ],
   "source": [
    "def auto_cat(title):\n",
    "    baiduai= libs.BaiduAi()\n",
    "    t = baiduai.depParser(title)\n",
    "\n",
    "    pre = 0\n",
    "    fhalf=[]\n",
    "    hed=[]\n",
    "    lhalf=[]\n",
    "    new= []\n",
    "    #强制使用的\n",
    "#     mdeprel = ['VOB','COO','ATT','IC','ADV']\n",
    "#     mdeprel = ['VOB','COO','ATT']\n",
    "    mdeprel = []\n",
    "    for item in t['items']:\n",
    "    #     print(item['head'])\n",
    "        if item['head'] == 0:\n",
    "            item['type'] = 'm'\n",
    "            print(item['word'])\n",
    "            hed = item\n",
    "    #         new.append(item)\n",
    "    for item in t['items']:\n",
    "        print(item)\n",
    "        #前半句\n",
    "        if item['id'] < hed['id']:\n",
    "    #         item['id'] < hed['id']\n",
    "            if pre < item['head'] :\n",
    "                item['type'] = 'm'\n",
    "            else:\n",
    "                item['type'] = 'pre'\n",
    "\n",
    "#             print(item['word'])\n",
    "    #         fhalf.append(item)\n",
    "        #后半句\n",
    "        if item['id'] > hed['id']:\n",
    "\n",
    "            if pre > item['head'] :\n",
    "                item['type'] = 'm'\n",
    "            else:\n",
    "                item['type'] = 'l'\n",
    "    #         print(item['word'])\n",
    "        #选择强制设为主要词\n",
    "        if item['deprel'] in mdeprel :\n",
    "            item['type'] = 'm'\n",
    "\n",
    "    #         lhalf.append(item)\n",
    "        pre = item['head']\n",
    "        new.append(item)\n",
    "    # print(new)\n",
    "    main_sentence=''\n",
    "\n",
    "    new = sorted(new, key=lambda k: k['id'],reverse=False)\n",
    "#     print(new)\n",
    "    for item in new:\n",
    "        if item['type'] == 'm':\n",
    "            main_sentence = main_sentence +item['word']+\"(\"+str(item['id'])+\")\"\n",
    "    print(main_sentence)\n",
    "    print(t['text'])\n",
    "\n",
    "title = \"每天喂饲食物的量要适度，过多过少都不利成长。\"\n",
    "auto_cat(title)"
   ]
  },
  {
   "cell_type": "code",
   "execution_count": 95,
   "metadata": {},
   "outputs": [
    {
     "name": "stdout",
     "output_type": "stream",
     "text": [
      "[{'postag': 'ng', 'head': 2, 'word': '被', 'id': 1, 'deprel': 'ATT', 'type': 'm'}, {'postag': 'n', 'head': 3, 'word': '毛', 'id': 2, 'deprel': 'ATT', 'type': 'm'}, {'postag': 'n', 'head': 4, 'word': '长度', 'id': 3, 'deprel': 'SBV', 'type': 'm'}, {'postag': 'a', 'head': 0, 'word': '适中', 'id': 4, 'deprel': 'HED', 'type': 'm'}, {'postag': 'w', 'head': 4, 'word': '，', 'id': 5, 'deprel': 'WP', 'type': 'm'}, {'postag': 'n', 'head': 7, 'word': '绒毛', 'id': 6, 'deprel': 'ATT', 'type': 'm'}, {'postag': 'n', 'head': 8, 'word': '层', 'id': 7, 'deprel': 'SBV', 'type': 'm'}, {'postag': 'a', 'head': 4, 'word': '短', 'id': 8, 'deprel': 'IC', 'type': 'm'}, {'postag': 'c', 'head': 10, 'word': '而', 'id': 9, 'deprel': 'COO', 'type': 'm'}, {'postag': 'a', 'head': 8, 'word': '厚', 'id': 10, 'deprel': 'COO', 'type': 'm'}, {'postag': 'w', 'head': 8, 'word': '，', 'id': 11, 'deprel': 'WP', 'type': 'l'}, {'postag': 'n', 'head': 14, 'word': '外层', 'id': 12, 'deprel': 'ATT', 'type': 'm'}, {'postag': 'p', 'head': 14, 'word': '被', 'id': 13, 'deprel': 'ATT', 'type': 'm'}, {'postag': 'n', 'head': 16, 'word': '毛', 'id': 14, 'deprel': 'SBV', 'type': 'm'}, {'postag': 'd', 'head': 16, 'word': '较', 'id': 15, 'deprel': 'ADV', 'type': 'l'}, {'postag': 'a', 'head': 4, 'word': '长', 'id': 16, 'deprel': 'IC', 'type': 'm'}, {'postag': 'c', 'head': 18, 'word': '而', 'id': 17, 'deprel': 'COO', 'type': 'm'}, {'postag': 'a', 'head': 16, 'word': '粗糙', 'id': 18, 'deprel': 'COO', 'type': 'm'}, {'postag': 'w', 'head': 16, 'word': '，', 'id': 19, 'deprel': 'WP', 'type': 'l'}, {'postag': 'v', 'head': 21, 'word': '能', 'id': 20, 'deprel': 'ADV', 'type': 'm'}, {'postag': 'v', 'head': 4, 'word': '抵御', 'id': 21, 'deprel': 'IC', 'type': 'm'}, {'postag': 'r', 'head': 24, 'word': '各种', 'id': 22, 'deprel': 'ATT', 'type': 'm'}, {'postag': 'n', 'head': 24, 'word': '环境', 'id': 23, 'deprel': 'ATT', 'type': 'm'}, {'postag': 'n', 'head': 21, 'word': '条件', 'id': 24, 'deprel': 'VOB', 'type': 'm'}]\n"
     ]
    }
   ],
   "source": [
    "print(new)"
   ]
  }
 ],
 "metadata": {
  "kernelspec": {
   "display_name": "Python 3",
   "language": "python",
   "name": "python3"
  },
  "language_info": {
   "codemirror_mode": {
    "name": "ipython",
    "version": 3
   },
   "file_extension": ".py",
   "mimetype": "text/x-python",
   "name": "python",
   "nbconvert_exporter": "python",
   "pygments_lexer": "ipython3",
   "version": "3.6.8"
  }
 },
 "nbformat": 4,
 "nbformat_minor": 2
}
